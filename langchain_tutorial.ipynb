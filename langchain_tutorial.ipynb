{
 "cells": [
  {
   "cell_type": "code",
   "execution_count": null,
   "id": "127bc1f8-0535-47c9-8ac0-ee03b822275b",
   "metadata": {},
   "outputs": [],
   "source": [
    "import os\n",
    "from dotenv import load_dotenv\n",
    "from langchain_groq import ChatGroq\n",
    "from langchain.prompts import PromptTemplate\n",
    "from langchain.chains import LLMChain, SimpleSequentialChain, SequentialChain"
   ]
  },
  {
   "cell_type": "code",
   "execution_count": null,
   "id": "96ba9772-7b64-4747-bbb3-459013e3c9f0",
   "metadata": {},
   "outputs": [],
   "source": [
    "# loading api_key\n",
    "load_dotenv()\n",
    "api_key = os.getenv(\"GROQ_API_KEY\")"
   ]
  },
  {
   "cell_type": "code",
   "execution_count": null,
   "id": "5d5d2330-d301-40b6-81b6-4dba24aeb656",
   "metadata": {},
   "outputs": [],
   "source": [
    "# defining LLM\n",
    "llm = ChatGroq(\n",
    "    model = \"gemma2-9b-it\",\n",
    "    temperature = 0.6,\n",
    "    api_key = api_key\n",
    ")"
   ]
  },
  {
   "cell_type": "code",
   "execution_count": null,
   "id": "8ba2fda8-2d82-4c1f-9707-3004dceba8ad",
   "metadata": {},
   "outputs": [
    {
     "name": "stdout",
     "output_type": "stream",
     "text": [
      "Spice Zenith  \n",
      "\n"
     ]
    }
   ],
   "source": [
    "# passing the prompt to LLM and getting reponse back\n",
    "response = llm.invoke(\"I want to start a new Indian restaurant. Suggest a one fancy name, NO PERAMBLE.\")\n",
    "print(response.content)"
   ]
  },
  {
   "cell_type": "code",
   "execution_count": null,
   "id": "4311d620-31cc-4f21-939b-dc06c6d6d47a",
   "metadata": {},
   "outputs": [
    {
     "data": {
      "text/plain": [
       "'I want to start a new Indian restaurant. Suggest a one fancy name, NO PERAMBLE.'"
      ]
     },
     "execution_count": 6,
     "metadata": {},
     "output_type": "execute_result"
    }
   ],
   "source": [
    "# defining Prompt\n",
    "name_prompt = PromptTemplate(\n",
    "    input_variables = ['cuisine'],\n",
    "    template = \"I want to start a new {cuisine} restaurant. Suggest a one fancy name, NO PERAMBLE.\"\n",
    ")\n",
    "name_prompt.format(cuisine = \"Indian\")"
   ]
  },
  {
   "cell_type": "code",
   "execution_count": null,
   "id": "61242156-4c3f-4311-ac8c-f11b3c94232c",
   "metadata": {},
   "outputs": [
    {
     "name": "stderr",
     "output_type": "stream",
     "text": [
      "<ipython-input-7-95f58520ee68>:2: LangChainDeprecationWarning: The class `LLMChain` was deprecated in LangChain 0.1.17 and will be removed in 1.0. Use :meth:`~RunnableSequence, e.g., `prompt | llm`` instead.\n",
      "  name_chain = LLMChain(\n"
     ]
    }
   ],
   "source": [
    "# define chain - passing the prompt to LLM\n",
    "name_chain = LLMChain(\n",
    "    llm = llm,\n",
    "    prompt = name_prompt\n",
    ")"
   ]
  },
  {
   "cell_type": "code",
   "execution_count": null,
   "id": "efd8b4d5-cfe7-4999-b8af-4aae1482bc30",
   "metadata": {},
   "outputs": [
    {
     "name": "stderr",
     "output_type": "stream",
     "text": [
      "<ipython-input-8-424a2825aa00>:2: LangChainDeprecationWarning: The method `Chain.run` was deprecated in langchain 0.1.0 and will be removed in 1.0. Use :meth:`~invoke` instead.\n",
      "  restaurant_name = name_chain.run(\"Indian\")\n"
     ]
    },
    {
     "name": "stdout",
     "output_type": "stream",
     "text": [
      "Avani's Spice.  \n",
      "\n"
     ]
    }
   ],
   "source": [
    "# running the chain\n",
    "restaurant_name = name_chain.run(\"Indian\")\n",
    "print(restaurant_name)"
   ]
  },
  {
   "cell_type": "code",
   "execution_count": null,
   "id": "39a7dc5f-7fab-487b-a0dc-d0dd08ab30f5",
   "metadata": {},
   "outputs": [],
   "source": [
    "# Will pass the response from name_chain to another chain and get the menu itesm\n",
    "# This is called \"SimpleSequentialChain\"\n",
    "# input --> name_chain --> name (output) --> menu_chain --> menu (output)"
   ]
  },
  {
   "cell_type": "code",
   "execution_count": null,
   "id": "e88b5977-eb63-4412-baf7-890d9b5054ac",
   "metadata": {},
   "outputs": [],
   "source": [
    "# creating menu_chain\n",
    "menu_prompt = PromptTemplate(\n",
    "    input_variables = ['restaurant_name'],\n",
    "    template = \"Suggest some menu item for {restaurant_name} restaurant. Return it in comma seperated values. NO PERAMBLE.\"\n",
    ")"
   ]
  },
  {
   "cell_type": "code",
   "execution_count": null,
   "id": "6f6741a1-d656-43cc-b5c8-deb46a99b3c2",
   "metadata": {},
   "outputs": [],
   "source": [
    "# creating menu_chain\n",
    "menu_chain = LLMChain(\n",
    "    llm = llm,\n",
    "    prompt = menu_prompt\n",
    ")"
   ]
  },
  {
   "cell_type": "code",
   "execution_count": null,
   "id": "a2a9c402-2604-402e-a0be-b8aeae109a5f",
   "metadata": {},
   "outputs": [],
   "source": [
    "# Createing Simple Sequential Chain\n",
    "chain = SimpleSequentialChain(\n",
    "    chains = [name_chain, menu_chain]\n",
    ")"
   ]
  },
  {
   "cell_type": "code",
   "execution_count": null,
   "id": "af559a13-bd56-4955-95d9-b25bb8afb0ce",
   "metadata": {},
   "outputs": [
    {
     "name": "stdout",
     "output_type": "stream",
     "text": [
      "Tandoori Chicken, Butter Chicken, Rogan Josh, Saag Paneer, Vegetable Korma, Lamb Vindaloo, Chicken Tikka Masala, Biryani, Naan, Samosas, Pakoras, Mango Lassi, Chai Tea.  \n",
      "\n"
     ]
    }
   ],
   "source": [
    "# getting response\n",
    "response = chain.run(\"Indian\")\n",
    "print(response)"
   ]
  },
  {
   "cell_type": "code",
   "execution_count": null,
   "id": "a0c23437-236d-4657-bc9b-3206e00d69fd",
   "metadata": {},
   "outputs": [],
   "source": [
    "# we didnt get restaurant name in the response from above. we only got menu\n",
    "# for multiple output or multiple input we use SequentialChain"
   ]
  },
  {
   "cell_type": "code",
   "execution_count": null,
   "id": "4176153f-6a1d-4829-844f-69a4cadcee96",
   "metadata": {},
   "outputs": [],
   "source": [
    "# name chain\n",
    "name_prompt = PromptTemplate(\n",
    "    input_variables = ['cuisine'],\n",
    "    template = \"I want to start a new {cuisine} restaurant. Suggest a one fancy name, NO PERAMBLE.\"\n",
    ")\n",
    "name_chain = LLMChain(\n",
    "    llm = llm,\n",
    "    prompt = name_prompt,\n",
    "    output_key = \"restaurant_name\"\n",
    ")\n",
    "\n",
    "# menu chain\n",
    "menu_prompt = PromptTemplate(\n",
    "    input_variables = ['restaurant_name'],\n",
    "    template = \"Suggest some menu item for {restaurant_name} restaurant. Return it in comma seperated values. NO PERAMBLE.\"\n",
    ")\n",
    "menu_chain = LLMChain(\n",
    "    llm = llm,\n",
    "    prompt = menu_prompt,\n",
    "    output_key = \"menu_items\"\n",
    ")\n",
    "\n",
    "# Creating SequentialChain\n",
    "chain = SequentialChain(\n",
    "    chains = [name_chain, menu_chain],\n",
    "    input_variables = [\"cuisine\"],\n",
    "    output_variables = [\"restaurant_name\", \"menu_items\"]\n",
    ")"
   ]
  },
  {
   "cell_type": "code",
   "execution_count": null,
   "id": "6238bb64-704a-45e1-8c03-45d555cb0276",
   "metadata": {},
   "outputs": [
    {
     "name": "stderr",
     "output_type": "stream",
     "text": [
      "<ipython-input-16-f78affe29800>:2: LangChainDeprecationWarning: The method `Chain.__call__` was deprecated in langchain 0.1.0 and will be removed in 1.0. Use :meth:`~invoke` instead.\n",
      "  response = chain([\"Indian\"])\n"
     ]
    },
    {
     "data": {
      "text/plain": [
       "{'cuisine': 'Indian',\n",
       " 'restaurant_name': 'Spice Odyssey. \\n',\n",
       " 'menu_items': 'Tandoori Chicken, Butter Chicken, Rogan Josh, Vindaloo, Saag Paneer, Chicken Tikka Masala, Biryani, Samosas, Naan, Pakoras, Mango Lassi, Chai  \\n'}"
      ]
     },
     "execution_count": 16,
     "metadata": {},
     "output_type": "execute_result"
    }
   ],
   "source": [
    "# running the chain\n",
    "response = chain([\"Indian\"])\n",
    "response\n",
    "response = chain({\"cuisine\": \"Indian\"})\n",
    "response"
   ]
  }
 ],
 "metadata": {
  "language_info": {
   "codemirror_mode": {
    "name": "ipython",
    "version": 3
   },
   "file_extension": ".py",
   "mimetype": "text/x-python",
   "name": "python",
   "nbconvert_exporter": "python",
   "pygments_lexer": "ipython3",
   "version": 3
  }
 },
 "nbformat": 4,
 "nbformat_minor": 2
}
